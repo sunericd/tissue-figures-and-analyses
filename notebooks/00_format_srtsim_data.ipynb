{
 "cells": [
  {
   "cell_type": "markdown",
   "id": "ce1e319d",
   "metadata": {},
   "source": [
    "# Convert SRTsim data files to format for TISSUE processing\n",
    "\n",
    "This notebook contains code for converting the output files of SRTsim into the format that is directly readable by TISSUE.\n",
    "\n",
    "To run this notebook, you will need to generate your own spatial transcriptomics data using SRTsim (https://github.com/xzhoulab/SRTsim) and save the results in an \"SRTsim\" output directory, and the change `tag` to be the filename base for your data. See `00_generate_srtsim_data.R` for our R code to generate data using SRTsim."
   ]
  },
  {
   "cell_type": "code",
   "execution_count": 1,
   "id": "4c82ebe6",
   "metadata": {},
   "outputs": [],
   "source": [
    "import numpy as np\n",
    "import pandas as pd\n",
    "import scanpy as sc\n",
    "import anndata as ad\n",
    "import os"
   ]
  },
  {
   "cell_type": "code",
   "execution_count": 2,
   "id": "86233902",
   "metadata": {},
   "outputs": [],
   "source": [
    "# name of the output file\n",
    "tag = \"main_two_conditions_same\" # main_two_conditions_different"
   ]
  },
  {
   "cell_type": "code",
   "execution_count": 3,
   "id": "bbfc3294",
   "metadata": {},
   "outputs": [],
   "source": [
    "# read in outputs\n",
    "counts = pd.read_csv(f\"SRTsim/{tag}_counts.txt\", index_col=0)\n",
    "meta = pd.read_csv(f\"SRTsim/{tag}_meta.txt\", index_col=0)"
   ]
  },
  {
   "cell_type": "code",
   "execution_count": 4,
   "id": "7c7487d9",
   "metadata": {},
   "outputs": [],
   "source": [
    "# create new subdir\n",
    "if not os.path.exists(f\"DataUpload/SRTsim_{tag}\"):\n",
    "    os.makedirs(f\"DataUpload/SRTsim_{tag}\")"
   ]
  },
  {
   "cell_type": "code",
   "execution_count": 5,
   "id": "fefed39f",
   "metadata": {},
   "outputs": [],
   "source": [
    "# save counts\n",
    "counts.T.to_csv(f\"DataUpload/SRTsim_{tag}/Spatial_count.txt\", sep='\\t', index=False)"
   ]
  },
  {
   "cell_type": "code",
   "execution_count": 6,
   "id": "1b38c1d0",
   "metadata": {},
   "outputs": [],
   "source": [
    "# save metadata\n",
    "meta['condition'] = meta['group']\n",
    "meta.to_csv(f\"DataUpload/SRTsim_{tag}/Metadata.txt\")"
   ]
  },
  {
   "cell_type": "code",
   "execution_count": 7,
   "id": "b89b6072",
   "metadata": {},
   "outputs": [],
   "source": [
    "# save spatial locations\n",
    "locations = meta[[\"x\",\"y\"]]\n",
    "locations.to_csv(f\"DataUpload/SRTsim_{tag}/Locations.txt\",index=False,sep='\\t')"
   ]
  },
  {
   "cell_type": "code",
   "execution_count": null,
   "id": "932fe1c6",
   "metadata": {},
   "outputs": [],
   "source": []
  }
 ],
 "metadata": {
  "kernelspec": {
   "display_name": "geneimputation",
   "language": "python",
   "name": "geneimputation"
  },
  "language_info": {
   "codemirror_mode": {
    "name": "ipython",
    "version": 3
   },
   "file_extension": ".py",
   "mimetype": "text/x-python",
   "name": "python",
   "nbconvert_exporter": "python",
   "pygments_lexer": "ipython3",
   "version": "3.8.13"
  }
 },
 "nbformat": 4,
 "nbformat_minor": 5
}
