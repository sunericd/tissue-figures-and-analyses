{
 "cells": [
  {
   "cell_type": "markdown",
   "id": "d1bb0111",
   "metadata": {},
   "source": [
    "# Spatial dataset visualization\n",
    "\n",
    "This notebook contains code for visualizing the highest expression gene in each of the eleven spatial transcriptomics datasets along the two-dimensional spatial coordinates.\n",
    "\n",
    "The notebook requires having the dataset folders formatted and in \"DataUpload\" top-level directory in the current working directory. The data can be retrieved from the Zenodo repository in our manuscript (DOI: 10.5281/zenodo.8259942)."
   ]
  },
  {
   "cell_type": "code",
   "execution_count": 1,
   "id": "b8658eb1",
   "metadata": {},
   "outputs": [],
   "source": [
    "import numpy as np\n",
    "import pandas as pd\n",
    "import matplotlib.pyplot as plt\n",
    "import matplotlib\n",
    "matplotlib.rcParams['pdf.fonttype'] = 42\n",
    "matplotlib.rcParams['ps.fonttype'] = 42\n",
    "import scanpy as sc\n",
    "import seaborn as sns\n",
    "import anndata as ad\n",
    "import pickle\n",
    "import os\n",
    "\n",
    "from TISSUE.tissue.main import *"
   ]
  },
  {
   "cell_type": "code",
   "execution_count": 2,
   "id": "0ea1b02d",
   "metadata": {},
   "outputs": [],
   "source": [
    "dataset_mapper = {\"Dataset3\": \"Mouse Hipp. (seqFISH)\",\n",
    "                  \"Dataset9\": \"Mouse VISP (MERFISH)\",\n",
    "                  \"Dataset11\": \"Mouse PC (STARmap)\", \n",
    "                  \"Dataset12\": \"Human MTG (ISS)\",\n",
    "                  \"Dataset13\": \"Mouse VISP (ISS)\",\n",
    "                  \"Dataset14\": \"Drosophila Embryo (FISH)\",\n",
    "                  \"Dataset15\": \"Mouse SC (osmFISH)\",\n",
    "                  \"Dataset17\": \"Mouse VISP (ExSeq)\",\n",
    "                  \"Axolotl\": \"Axolotl Brain (Stereo-seq)\",\n",
    "                  \"Dataset7\": \"Human U2OS (MERFISH)\",\n",
    "                  \"Dataset1\": \"Mouse Gast. (seqFISH)\"}"
   ]
  },
  {
   "cell_type": "code",
   "execution_count": null,
   "id": "2f029887",
   "metadata": {},
   "outputs": [],
   "source": [
    "dataset_names = [\"Dataset3\", \"Dataset9\", \"Dataset11\", \"Dataset12\", \"Dataset13\", \"Dataset14\", \"Dataset15\", \"Dataset17\", \"Dataset1\", \"Dataset7\", \"Axolotl\"]\n",
    "\n",
    "\n",
    "# make plot for each dataset\n",
    "for dataset_name in dataset_names:\n",
    "    \n",
    "    # load in spatial data\n",
    "    adata = load_spatial_data(\"DataUpload/\"+dataset_name+\"/Spatial_count.txt\",\n",
    "                             \"DataUpload/\"+dataset_name+\"/Locations.txt\")\n",
    "    \n",
    "    # log counts\n",
    "    adata.X = np.log1p(adata.X)\n",
    "    \n",
    "    # special handling of 3D Dataset14 (2D projection)\n",
    "    if dataset_name == \"Dataset14\":\n",
    "        adata.obsm[\"spatial\"] = adata.obsm[\"spatial\"][:,np.array([0,2])]\n",
    "    \n",
    "    # get max expression gene\n",
    "    max_gene = adata.var_names[np.where(np.sum(adata.X, axis=0) == np.sum(adata.X, axis=0).max())[0][0]]\n",
    "    \n",
    "    # make plot\n",
    "    sc.set_figure_params(vector_friendly=True, dpi=500, figsize=(7,5), fontsize=16)\n",
    "    sc.pl.embedding(adata, \"spatial\", color=max_gene, cmap=\"Reds\", show=False)\n",
    "    plt.title(dataset_mapper[dataset_name]+\"\\n\"+max_gene.capitalize(), fontsize=20)\n",
    "    plt.axis('off')\n",
    "    plt.savefig(f\"plots/spatial_max_gene_{dataset_name}_{max_gene}.pdf\", bbox_inches=\"tight\", dpi=300)"
   ]
  }
 ],
 "metadata": {
  "kernelspec": {
   "display_name": "geneimputation",
   "language": "python",
   "name": "geneimputation"
  },
  "language_info": {
   "codemirror_mode": {
    "name": "ipython",
    "version": 3
   },
   "file_extension": ".py",
   "mimetype": "text/x-python",
   "name": "python",
   "nbconvert_exporter": "python",
   "pygments_lexer": "ipython3",
   "version": "3.8.13"
  }
 },
 "nbformat": 4,
 "nbformat_minor": 5
}
