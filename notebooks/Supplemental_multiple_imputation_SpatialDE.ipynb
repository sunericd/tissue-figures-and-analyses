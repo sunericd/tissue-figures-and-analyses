{
 "cells": [
  {
   "cell_type": "markdown",
   "id": "fe366011",
   "metadata": {},
   "source": [
    "# TISSUE multiple imputation framework using SpatialDE (spatially variable gene detection)\n",
    "\n",
    "This notebook contains code for generating figures showing TISSUE multiple imputation hypothesis testing using the SpatialDE test for spatially variable gene detection and Licht-Rubin transformation of the p-value (less rigorous than Rubin's rules used for the t-test). It relies on the outputs of the `get_multi_spatialde.py` script with parameters in `run_dgea_spatialde.slurm`."
   ]
  },
  {
   "cell_type": "code",
   "execution_count": 1,
   "id": "ab6db7c9",
   "metadata": {},
   "outputs": [],
   "source": [
    "import numpy as np\n",
    "import pandas as pd\n",
    "import matplotlib.pyplot as plt\n",
    "import matplotlib\n",
    "matplotlib.rcParams['pdf.fonttype'] = 42\n",
    "matplotlib.rcParams['ps.fonttype'] = 42\n",
    "import scanpy as sc\n",
    "import squidpy as sq\n",
    "import seaborn as sns\n",
    "from scipy.stats import pearsonr, spearmanr\n",
    "from sklearn.decomposition import PCA, NMF\n",
    "from sklearn.manifold import TSNE\n",
    "import anndata as ad\n",
    "import warnings\n",
    "import time\n",
    "import pickle\n",
    "import os\n",
    "\n",
    "from decimal import Decimal\n",
    "from statsmodels.stats.multitest import multipletests\n",
    "\n",
    "from TISSUE.tissue.main import *\n",
    "from TISSUE.tissue.downstream import *\n",
    "from TISSUE.tissue.experiments import *\n",
    "\n",
    "from scipy.stats import mannwhitneyu\n",
    "\n",
    "import SpatialDE\n",
    "import NaiveDE"
   ]
  },
  {
   "cell_type": "code",
   "execution_count": 2,
   "id": "185b4607",
   "metadata": {},
   "outputs": [],
   "source": [
    "# Mapping to detailed descriptors\n",
    "\n",
    "dataset_mapper = {\"Dataset3\": \"Mouse Hipp.\\n(seqFISH)\",\n",
    "                  \"Dataset9\": \"Mouse VISP\\n(MERFISH)\",\n",
    "                  \"Dataset11\": \"Mouse PC\\n(STARmap)\", \n",
    "                  \"Dataset12\": \"Human MTG\\n(ISS)\",\n",
    "                  \"Dataset13\": \"Mouse VISP\\n(ISS)\",\n",
    "                  \"Dataset14\": \"Drosophila Embryo\\n(FISH)\",\n",
    "                  \"Dataset15\": \"Mouse SC\\n(osmFISH)\",\n",
    "                  \"Dataset17\": \"Mouse VISP\\n(ExSeq)\",\n",
    "                  \"Axolotl\": \"Axolotl Brain\\n(Stereo-seq)\",\n",
    "                  \"Dataset7\": \"Human U2OS\\n(MERFISH)\",\n",
    "                  \"Dataset1\": \"Mouse Gast.\\n(seqFISH)\"}\n",
    "\n",
    "method_mapper = {\"tangram\": \"Tangram\",\n",
    "                 \"spage\": \"SpaGE\",\n",
    "                 \"knn\": \"Harmony\",\n",
    "                 \"gimvi\": \"gimVI\"}"
   ]
  },
  {
   "cell_type": "markdown",
   "id": "ac1452fd",
   "metadata": {},
   "source": [
    "## Read in output anndata objects and combine into results dict"
   ]
  },
  {
   "cell_type": "code",
   "execution_count": 4,
   "id": "179c4339",
   "metadata": {},
   "outputs": [
    {
     "data": {
      "application/vnd.jupyter.widget-view+json": {
       "model_id": "2caa2c9bf2cd4682b4b661cad8f55803",
       "version_major": 2,
       "version_minor": 0
      },
      "text/plain": [
       "Models:   0%|          | 0/10 [00:00<?, ?it/s]"
      ]
     },
     "metadata": {},
     "output_type": "display_data"
    },
    {
     "data": {
      "application/vnd.jupyter.widget-view+json": {
       "model_id": "5c6ef0758ec147a09156849a6c3fc540",
       "version_major": 2,
       "version_minor": 0
      },
      "text/plain": [
       "  0%|          | 0/90 [00:00<?, ?it/s]"
      ]
     },
     "metadata": {},
     "output_type": "display_data"
    },
    {
     "data": {
      "application/vnd.jupyter.widget-view+json": {
       "model_id": "204f73b3af4e467fabb359532b3a4360",
       "version_major": 2,
       "version_minor": 0
      },
      "text/plain": [
       "  0%|          | 0/90 [00:00<?, ?it/s]"
      ]
     },
     "metadata": {},
     "output_type": "display_data"
    },
    {
     "data": {
      "application/vnd.jupyter.widget-view+json": {
       "model_id": "bcd32e8e0cb642a48b1ac9716dec92c5",
       "version_major": 2,
       "version_minor": 0
      },
      "text/plain": [
       "  0%|          | 0/90 [00:00<?, ?it/s]"
      ]
     },
     "metadata": {},
     "output_type": "display_data"
    },
    {
     "data": {
      "application/vnd.jupyter.widget-view+json": {
       "model_id": "acf94a758b5d4d0b90d5a2d1baeffe6b",
       "version_major": 2,
       "version_minor": 0
      },
      "text/plain": [
       "  0%|          | 0/90 [00:00<?, ?it/s]"
      ]
     },
     "metadata": {},
     "output_type": "display_data"
    },
    {
     "data": {
      "application/vnd.jupyter.widget-view+json": {
       "model_id": "38011407aafb45f39f5dae00b6f7f742",
       "version_major": 2,
       "version_minor": 0
      },
      "text/plain": [
       "  0%|          | 0/90 [00:00<?, ?it/s]"
      ]
     },
     "metadata": {},
     "output_type": "display_data"
    },
    {
     "data": {
      "application/vnd.jupyter.widget-view+json": {
       "model_id": "4f42da9afb4e4d8d8182805ab052cccf",
       "version_major": 2,
       "version_minor": 0
      },
      "text/plain": [
       "  0%|          | 0/90 [00:00<?, ?it/s]"
      ]
     },
     "metadata": {},
     "output_type": "display_data"
    },
    {
     "data": {
      "application/vnd.jupyter.widget-view+json": {
       "model_id": "926ea27818d9427795a80529ff3c45c7",
       "version_major": 2,
       "version_minor": 0
      },
      "text/plain": [
       "  0%|          | 0/90 [00:00<?, ?it/s]"
      ]
     },
     "metadata": {},
     "output_type": "display_data"
    },
    {
     "data": {
      "application/vnd.jupyter.widget-view+json": {
       "model_id": "946be1f5a44b44e087c261b7683f1092",
       "version_major": 2,
       "version_minor": 0
      },
      "text/plain": [
       "  0%|          | 0/90 [00:00<?, ?it/s]"
      ]
     },
     "metadata": {},
     "output_type": "display_data"
    },
    {
     "data": {
      "application/vnd.jupyter.widget-view+json": {
       "model_id": "ed947907e4884d56bdabc9618e3331ee",
       "version_major": 2,
       "version_minor": 0
      },
      "text/plain": [
       "  0%|          | 0/90 [00:00<?, ?it/s]"
      ]
     },
     "metadata": {},
     "output_type": "display_data"
    },
    {
     "data": {
      "application/vnd.jupyter.widget-view+json": {
       "model_id": "75f06b0ae98c4dbc9f1ac6bf0525c7e9",
       "version_major": 2,
       "version_minor": 0
      },
      "text/plain": [
       "  0%|          | 0/90 [00:00<?, ?it/s]"
      ]
     },
     "metadata": {},
     "output_type": "display_data"
    },
    {
     "data": {
      "application/vnd.jupyter.widget-view+json": {
       "model_id": "55c38ce0224b4b59a73559ca53dd8310",
       "version_major": 2,
       "version_minor": 0
      },
      "text/plain": [
       "Models:   0%|          | 0/10 [00:00<?, ?it/s]"
      ]
     },
     "metadata": {},
     "output_type": "display_data"
    },
    {
     "data": {
      "application/vnd.jupyter.widget-view+json": {
       "model_id": "21bcfbec7e8d44c482260305e0750dae",
       "version_major": 2,
       "version_minor": 0
      },
      "text/plain": [
       "  0%|          | 0/90 [00:00<?, ?it/s]"
      ]
     },
     "metadata": {},
     "output_type": "display_data"
    },
    {
     "data": {
      "application/vnd.jupyter.widget-view+json": {
       "model_id": "6526549119c140c4963f7d71822f9001",
       "version_major": 2,
       "version_minor": 0
      },
      "text/plain": [
       "  0%|          | 0/90 [00:00<?, ?it/s]"
      ]
     },
     "metadata": {},
     "output_type": "display_data"
    },
    {
     "data": {
      "application/vnd.jupyter.widget-view+json": {
       "model_id": "04d9bbab0a194d879418765ec7b12bb2",
       "version_major": 2,
       "version_minor": 0
      },
      "text/plain": [
       "  0%|          | 0/90 [00:00<?, ?it/s]"
      ]
     },
     "metadata": {},
     "output_type": "display_data"
    },
    {
     "data": {
      "application/vnd.jupyter.widget-view+json": {
       "model_id": "be4556bd155b4dc19e0f40b64427da7c",
       "version_major": 2,
       "version_minor": 0
      },
      "text/plain": [
       "  0%|          | 0/90 [00:00<?, ?it/s]"
      ]
     },
     "metadata": {},
     "output_type": "display_data"
    },
    {
     "data": {
      "application/vnd.jupyter.widget-view+json": {
       "model_id": "31fca4e599474739a361a003d0a39072",
       "version_major": 2,
       "version_minor": 0
      },
      "text/plain": [
       "  0%|          | 0/90 [00:00<?, ?it/s]"
      ]
     },
     "metadata": {},
     "output_type": "display_data"
    },
    {
     "data": {
      "application/vnd.jupyter.widget-view+json": {
       "model_id": "6085a98f7bf345e19c7fdf73ad6e29a6",
       "version_major": 2,
       "version_minor": 0
      },
      "text/plain": [
       "  0%|          | 0/90 [00:00<?, ?it/s]"
      ]
     },
     "metadata": {},
     "output_type": "display_data"
    },
    {
     "data": {
      "application/vnd.jupyter.widget-view+json": {
       "model_id": "6bfd0b85ea9346eabf003d1a9de61ab7",
       "version_major": 2,
       "version_minor": 0
      },
      "text/plain": [
       "  0%|          | 0/90 [00:00<?, ?it/s]"
      ]
     },
     "metadata": {},
     "output_type": "display_data"
    },
    {
     "data": {
      "application/vnd.jupyter.widget-view+json": {
       "model_id": "9a2b9caa76b04359931bb1c0e3408ffe",
       "version_major": 2,
       "version_minor": 0
      },
      "text/plain": [
       "  0%|          | 0/90 [00:00<?, ?it/s]"
      ]
     },
     "metadata": {},
     "output_type": "display_data"
    },
    {
     "data": {
      "application/vnd.jupyter.widget-view+json": {
       "model_id": "301c3dbe806c4f0a853fd4bb3c5d7b8a",
       "version_major": 2,
       "version_minor": 0
      },
      "text/plain": [
       "  0%|          | 0/90 [00:00<?, ?it/s]"
      ]
     },
     "metadata": {},
     "output_type": "display_data"
    },
    {
     "data": {
      "application/vnd.jupyter.widget-view+json": {
       "model_id": "6a78815192f24c8e8392990d52e5dd01",
       "version_major": 2,
       "version_minor": 0
      },
      "text/plain": [
       "  0%|          | 0/90 [00:00<?, ?it/s]"
      ]
     },
     "metadata": {},
     "output_type": "display_data"
    },
    {
     "data": {
      "application/vnd.jupyter.widget-view+json": {
       "model_id": "fa1640faece74c78adaef74da3bcdb20",
       "version_major": 2,
       "version_minor": 0
      },
      "text/plain": [
       "Models:   0%|          | 0/10 [00:00<?, ?it/s]"
      ]
     },
     "metadata": {},
     "output_type": "display_data"
    },
    {
     "data": {
      "application/vnd.jupyter.widget-view+json": {
       "model_id": "979436b7bc0c44efb45c9fe0d8c75062",
       "version_major": 2,
       "version_minor": 0
      },
      "text/plain": [
       "  0%|          | 0/90 [00:00<?, ?it/s]"
      ]
     },
     "metadata": {},
     "output_type": "display_data"
    },
    {
     "data": {
      "application/vnd.jupyter.widget-view+json": {
       "model_id": "b8cac73b21404ad58a8a9d365f2216c7",
       "version_major": 2,
       "version_minor": 0
      },
      "text/plain": [
       "  0%|          | 0/90 [00:00<?, ?it/s]"
      ]
     },
     "metadata": {},
     "output_type": "display_data"
    },
    {
     "data": {
      "application/vnd.jupyter.widget-view+json": {
       "model_id": "b0e5a923a1724a3ea0813d7257b87fe6",
       "version_major": 2,
       "version_minor": 0
      },
      "text/plain": [
       "  0%|          | 0/90 [00:00<?, ?it/s]"
      ]
     },
     "metadata": {},
     "output_type": "display_data"
    },
    {
     "data": {
      "application/vnd.jupyter.widget-view+json": {
       "model_id": "ab55f45d29e4471fbc47c2eb7bf20929",
       "version_major": 2,
       "version_minor": 0
      },
      "text/plain": [
       "  0%|          | 0/90 [00:00<?, ?it/s]"
      ]
     },
     "metadata": {},
     "output_type": "display_data"
    },
    {
     "data": {
      "application/vnd.jupyter.widget-view+json": {
       "model_id": "b468713694ce443696bfbf892fbf1690",
       "version_major": 2,
       "version_minor": 0
      },
      "text/plain": [
       "  0%|          | 0/90 [00:00<?, ?it/s]"
      ]
     },
     "metadata": {},
     "output_type": "display_data"
    },
    {
     "data": {
      "application/vnd.jupyter.widget-view+json": {
       "model_id": "cc1d0d3e59d546a58e231304578d153d",
       "version_major": 2,
       "version_minor": 0
      },
      "text/plain": [
       "  0%|          | 0/90 [00:00<?, ?it/s]"
      ]
     },
     "metadata": {},
     "output_type": "display_data"
    },
    {
     "data": {
      "application/vnd.jupyter.widget-view+json": {
       "model_id": "89fde8ee208949faa007a6d088d50d84",
       "version_major": 2,
       "version_minor": 0
      },
      "text/plain": [
       "  0%|          | 0/90 [00:00<?, ?it/s]"
      ]
     },
     "metadata": {},
     "output_type": "display_data"
    },
    {
     "data": {
      "application/vnd.jupyter.widget-view+json": {
       "model_id": "d1484f3236f54a38ad6141b29fcc2ad4",
       "version_major": 2,
       "version_minor": 0
      },
      "text/plain": [
       "  0%|          | 0/90 [00:00<?, ?it/s]"
      ]
     },
     "metadata": {},
     "output_type": "display_data"
    },
    {
     "data": {
      "application/vnd.jupyter.widget-view+json": {
       "model_id": "8a0f97acf53d42f1813c9e04d6e866b0",
       "version_major": 2,
       "version_minor": 0
      },
      "text/plain": [
       "  0%|          | 0/90 [00:00<?, ?it/s]"
      ]
     },
     "metadata": {},
     "output_type": "display_data"
    },
    {
     "data": {
      "application/vnd.jupyter.widget-view+json": {
       "model_id": "d1a154230be24b73a6d1dede99117511",
       "version_major": 2,
       "version_minor": 0
      },
      "text/plain": [
       "  0%|          | 0/90 [00:00<?, ?it/s]"
      ]
     },
     "metadata": {},
     "output_type": "display_data"
    },
    {
     "data": {
      "application/vnd.jupyter.widget-view+json": {
       "model_id": "802b1d2f1f7248ca977b52735ce59591",
       "version_major": 2,
       "version_minor": 0
      },
      "text/plain": [
       "Models:   0%|          | 0/10 [00:00<?, ?it/s]"
      ]
     },
     "metadata": {},
     "output_type": "display_data"
    },
    {
     "data": {
      "application/vnd.jupyter.widget-view+json": {
       "model_id": "af88a276654e483693e6e6ea0e9dde74",
       "version_major": 2,
       "version_minor": 0
      },
      "text/plain": [
       "  0%|          | 0/90 [00:00<?, ?it/s]"
      ]
     },
     "metadata": {},
     "output_type": "display_data"
    },
    {
     "data": {
      "application/vnd.jupyter.widget-view+json": {
       "model_id": "7da490672b95479eb60e6b5d35dc4026",
       "version_major": 2,
       "version_minor": 0
      },
      "text/plain": [
       "  0%|          | 0/90 [00:00<?, ?it/s]"
      ]
     },
     "metadata": {},
     "output_type": "display_data"
    },
    {
     "data": {
      "application/vnd.jupyter.widget-view+json": {
       "model_id": "b1e8c1248bf448ff90235ec9c919568d",
       "version_major": 2,
       "version_minor": 0
      },
      "text/plain": [
       "  0%|          | 0/90 [00:00<?, ?it/s]"
      ]
     },
     "metadata": {},
     "output_type": "display_data"
    },
    {
     "data": {
      "application/vnd.jupyter.widget-view+json": {
       "model_id": "0f2d7e5afdb64530a0bfcb4b9ad54b53",
       "version_major": 2,
       "version_minor": 0
      },
      "text/plain": [
       "  0%|          | 0/90 [00:00<?, ?it/s]"
      ]
     },
     "metadata": {},
     "output_type": "display_data"
    },
    {
     "data": {
      "application/vnd.jupyter.widget-view+json": {
       "model_id": "d996708b70084f37ba2256b9ba647de9",
       "version_major": 2,
       "version_minor": 0
      },
      "text/plain": [
       "  0%|          | 0/90 [00:00<?, ?it/s]"
      ]
     },
     "metadata": {},
     "output_type": "display_data"
    },
    {
     "data": {
      "application/vnd.jupyter.widget-view+json": {
       "model_id": "38827e42adc344a191179d41fff25f31",
       "version_major": 2,
       "version_minor": 0
      },
      "text/plain": [
       "  0%|          | 0/90 [00:00<?, ?it/s]"
      ]
     },
     "metadata": {},
     "output_type": "display_data"
    },
    {
     "data": {
      "application/vnd.jupyter.widget-view+json": {
       "model_id": "ca62ae4905504b0e9dd593b6662b0d20",
       "version_major": 2,
       "version_minor": 0
      },
      "text/plain": [
       "  0%|          | 0/90 [00:00<?, ?it/s]"
      ]
     },
     "metadata": {},
     "output_type": "display_data"
    },
    {
     "data": {
      "application/vnd.jupyter.widget-view+json": {
       "model_id": "307207248a0d4fb88ea5b39b7006697d",
       "version_major": 2,
       "version_minor": 0
      },
      "text/plain": [
       "  0%|          | 0/90 [00:00<?, ?it/s]"
      ]
     },
     "metadata": {},
     "output_type": "display_data"
    },
    {
     "data": {
      "application/vnd.jupyter.widget-view+json": {
       "model_id": "1eb29b6e1f7249eb8440b193388b2c37",
       "version_major": 2,
       "version_minor": 0
      },
      "text/plain": [
       "  0%|          | 0/90 [00:00<?, ?it/s]"
      ]
     },
     "metadata": {},
     "output_type": "display_data"
    },
    {
     "data": {
      "application/vnd.jupyter.widget-view+json": {
       "model_id": "a82433cc809843b7ab1210ee368f1607",
       "version_major": 2,
       "version_minor": 0
      },
      "text/plain": [
       "  0%|          | 0/90 [00:00<?, ?it/s]"
      ]
     },
     "metadata": {},
     "output_type": "display_data"
    },
    {
     "data": {
      "application/vnd.jupyter.widget-view+json": {
       "model_id": "cb291398613f441e87736bb8c519aa30",
       "version_major": 2,
       "version_minor": 0
      },
      "text/plain": [
       "Models:   0%|          | 0/10 [00:00<?, ?it/s]"
      ]
     },
     "metadata": {},
     "output_type": "display_data"
    },
    {
     "data": {
      "application/vnd.jupyter.widget-view+json": {
       "model_id": "a20890973e1f4c20b457743fb9f70d34",
       "version_major": 2,
       "version_minor": 0
      },
      "text/plain": [
       "  0%|          | 0/90 [00:00<?, ?it/s]"
      ]
     },
     "metadata": {},
     "output_type": "display_data"
    },
    {
     "data": {
      "application/vnd.jupyter.widget-view+json": {
       "model_id": "505292b249fc40bea98d79729ae57c6d",
       "version_major": 2,
       "version_minor": 0
      },
      "text/plain": [
       "  0%|          | 0/90 [00:00<?, ?it/s]"
      ]
     },
     "metadata": {},
     "output_type": "display_data"
    },
    {
     "data": {
      "application/vnd.jupyter.widget-view+json": {
       "model_id": "16c1e9b6bfdb45cdaa0507ca134e7aa5",
       "version_major": 2,
       "version_minor": 0
      },
      "text/plain": [
       "  0%|          | 0/90 [00:00<?, ?it/s]"
      ]
     },
     "metadata": {},
     "output_type": "display_data"
    },
    {
     "data": {
      "application/vnd.jupyter.widget-view+json": {
       "model_id": "d45146b3c3b541bfa0fb53c424ff2a88",
       "version_major": 2,
       "version_minor": 0
      },
      "text/plain": [
       "  0%|          | 0/90 [00:00<?, ?it/s]"
      ]
     },
     "metadata": {},
     "output_type": "display_data"
    },
    {
     "data": {
      "application/vnd.jupyter.widget-view+json": {
       "model_id": "17acb9c5592b4207be6472d91bf35047",
       "version_major": 2,
       "version_minor": 0
      },
      "text/plain": [
       "  0%|          | 0/90 [00:00<?, ?it/s]"
      ]
     },
     "metadata": {},
     "output_type": "display_data"
    },
    {
     "data": {
      "application/vnd.jupyter.widget-view+json": {
       "model_id": "ba10d75639b3418fafe89b66a021c927",
       "version_major": 2,
       "version_minor": 0
      },
      "text/plain": [
       "  0%|          | 0/90 [00:00<?, ?it/s]"
      ]
     },
     "metadata": {},
     "output_type": "display_data"
    },
    {
     "data": {
      "application/vnd.jupyter.widget-view+json": {
       "model_id": "ab30e3dbd97b47488f24244aa00bee8c",
       "version_major": 2,
       "version_minor": 0
      },
      "text/plain": [
       "  0%|          | 0/90 [00:00<?, ?it/s]"
      ]
     },
     "metadata": {},
     "output_type": "display_data"
    },
    {
     "data": {
      "application/vnd.jupyter.widget-view+json": {
       "model_id": "6cf66991f1114b1097849edcd958c982",
       "version_major": 2,
       "version_minor": 0
      },
      "text/plain": [
       "  0%|          | 0/90 [00:00<?, ?it/s]"
      ]
     },
     "metadata": {},
     "output_type": "display_data"
    },
    {
     "data": {
      "application/vnd.jupyter.widget-view+json": {
       "model_id": "bd2ce8b212164c8bbe8c59e28f51212c",
       "version_major": 2,
       "version_minor": 0
      },
      "text/plain": [
       "  0%|          | 0/90 [00:00<?, ?it/s]"
      ]
     },
     "metadata": {},
     "output_type": "display_data"
    },
    {
     "data": {
      "application/vnd.jupyter.widget-view+json": {
       "model_id": "04fb92bc88d940a28b1a7ba98ced729f",
       "version_major": 2,
       "version_minor": 0
      },
      "text/plain": [
       "  0%|          | 0/90 [00:00<?, ?it/s]"
      ]
     },
     "metadata": {},
     "output_type": "display_data"
    },
    {
     "data": {
      "application/vnd.jupyter.widget-view+json": {
       "model_id": "517e8e39c68f45ea9e6cadea1b9b905e",
       "version_major": 2,
       "version_minor": 0
      },
      "text/plain": [
       "Models:   0%|          | 0/10 [00:00<?, ?it/s]"
      ]
     },
     "metadata": {},
     "output_type": "display_data"
    },
    {
     "data": {
      "application/vnd.jupyter.widget-view+json": {
       "model_id": "3917c1dc0843419fa9ebbba740bfe883",
       "version_major": 2,
       "version_minor": 0
      },
      "text/plain": [
       "  0%|          | 0/90 [00:00<?, ?it/s]"
      ]
     },
     "metadata": {},
     "output_type": "display_data"
    },
    {
     "data": {
      "application/vnd.jupyter.widget-view+json": {
       "model_id": "9fc7936c5351465c913472cd5b7eab70",
       "version_major": 2,
       "version_minor": 0
      },
      "text/plain": [
       "  0%|          | 0/90 [00:00<?, ?it/s]"
      ]
     },
     "metadata": {},
     "output_type": "display_data"
    },
    {
     "data": {
      "application/vnd.jupyter.widget-view+json": {
       "model_id": "9be757dce8644e4283f34cad2b74c279",
       "version_major": 2,
       "version_minor": 0
      },
      "text/plain": [
       "  0%|          | 0/90 [00:00<?, ?it/s]"
      ]
     },
     "metadata": {},
     "output_type": "display_data"
    },
    {
     "data": {
      "application/vnd.jupyter.widget-view+json": {
       "model_id": "5c3e6eec68184fbfab83eeb994e39979",
       "version_major": 2,
       "version_minor": 0
      },
      "text/plain": [
       "  0%|          | 0/90 [00:00<?, ?it/s]"
      ]
     },
     "metadata": {},
     "output_type": "display_data"
    },
    {
     "data": {
      "application/vnd.jupyter.widget-view+json": {
       "model_id": "4e54519886d544dcac24fe82a2264691",
       "version_major": 2,
       "version_minor": 0
      },
      "text/plain": [
       "  0%|          | 0/90 [00:00<?, ?it/s]"
      ]
     },
     "metadata": {},
     "output_type": "display_data"
    },
    {
     "data": {
      "application/vnd.jupyter.widget-view+json": {
       "model_id": "81d20b2f9ef5444d9138f22ef4444ca6",
       "version_major": 2,
       "version_minor": 0
      },
      "text/plain": [
       "  0%|          | 0/90 [00:00<?, ?it/s]"
      ]
     },
     "metadata": {},
     "output_type": "display_data"
    },
    {
     "data": {
      "application/vnd.jupyter.widget-view+json": {
       "model_id": "93cc1d11c27b49de9c4d8966855bb673",
       "version_major": 2,
       "version_minor": 0
      },
      "text/plain": [
       "  0%|          | 0/90 [00:00<?, ?it/s]"
      ]
     },
     "metadata": {},
     "output_type": "display_data"
    },
    {
     "data": {
      "application/vnd.jupyter.widget-view+json": {
       "model_id": "0bbf818eab624c79857b415dee1b8000",
       "version_major": 2,
       "version_minor": 0
      },
      "text/plain": [
       "  0%|          | 0/90 [00:00<?, ?it/s]"
      ]
     },
     "metadata": {},
     "output_type": "display_data"
    },
    {
     "data": {
      "application/vnd.jupyter.widget-view+json": {
       "model_id": "2f675a51eecb4fee9b66d9f799ba9764",
       "version_major": 2,
       "version_minor": 0
      },
      "text/plain": [
       "  0%|          | 0/90 [00:00<?, ?it/s]"
      ]
     },
     "metadata": {},
     "output_type": "display_data"
    },
    {
     "data": {
      "application/vnd.jupyter.widget-view+json": {
       "model_id": "d2a03db958534a9d8ab88827e0aec4ad",
       "version_major": 2,
       "version_minor": 0
      },
      "text/plain": [
       "  0%|          | 0/90 [00:00<?, ?it/s]"
      ]
     },
     "metadata": {},
     "output_type": "display_data"
    },
    {
     "data": {
      "application/vnd.jupyter.widget-view+json": {
       "model_id": "03b55bad9da94b4cbacf20ca63fb9166",
       "version_major": 2,
       "version_minor": 0
      },
      "text/plain": [
       "Models:   0%|          | 0/10 [00:00<?, ?it/s]"
      ]
     },
     "metadata": {},
     "output_type": "display_data"
    },
    {
     "data": {
      "application/vnd.jupyter.widget-view+json": {
       "model_id": "a2cd4933208245e69bdcb00fb8b1350e",
       "version_major": 2,
       "version_minor": 0
      },
      "text/plain": [
       "  0%|          | 0/42 [00:00<?, ?it/s]"
      ]
     },
     "metadata": {},
     "output_type": "display_data"
    },
    {
     "data": {
      "application/vnd.jupyter.widget-view+json": {
       "model_id": "9e5a578342a244939131b6df7d25ce09",
       "version_major": 2,
       "version_minor": 0
      },
      "text/plain": [
       "  0%|          | 0/42 [00:00<?, ?it/s]"
      ]
     },
     "metadata": {},
     "output_type": "display_data"
    },
    {
     "data": {
      "application/vnd.jupyter.widget-view+json": {
       "model_id": "bb5f56f33aae4679a11341edf3d4dbd6",
       "version_major": 2,
       "version_minor": 0
      },
      "text/plain": [
       "  0%|          | 0/42 [00:00<?, ?it/s]"
      ]
     },
     "metadata": {},
     "output_type": "display_data"
    },
    {
     "data": {
      "application/vnd.jupyter.widget-view+json": {
       "model_id": "aef50263c4164d1d990b21ed807e4964",
       "version_major": 2,
       "version_minor": 0
      },
      "text/plain": [
       "  0%|          | 0/42 [00:00<?, ?it/s]"
      ]
     },
     "metadata": {},
     "output_type": "display_data"
    },
    {
     "data": {
      "application/vnd.jupyter.widget-view+json": {
       "model_id": "f8d1a7a8dd77487e959b573f26913c18",
       "version_major": 2,
       "version_minor": 0
      },
      "text/plain": [
       "  0%|          | 0/42 [00:00<?, ?it/s]"
      ]
     },
     "metadata": {},
     "output_type": "display_data"
    },
    {
     "data": {
      "application/vnd.jupyter.widget-view+json": {
       "model_id": "c2384f3eb4294d5b9339b2f416f157ff",
       "version_major": 2,
       "version_minor": 0
      },
      "text/plain": [
       "  0%|          | 0/42 [00:00<?, ?it/s]"
      ]
     },
     "metadata": {},
     "output_type": "display_data"
    },
    {
     "data": {
      "application/vnd.jupyter.widget-view+json": {
       "model_id": "791e9d1b7eb3484c940ddc681403907d",
       "version_major": 2,
       "version_minor": 0
      },
      "text/plain": [
       "  0%|          | 0/42 [00:00<?, ?it/s]"
      ]
     },
     "metadata": {},
     "output_type": "display_data"
    },
    {
     "data": {
      "application/vnd.jupyter.widget-view+json": {
       "model_id": "44a395fab42147fd9aca8e0c6b63fcb2",
       "version_major": 2,
       "version_minor": 0
      },
      "text/plain": [
       "  0%|          | 0/42 [00:00<?, ?it/s]"
      ]
     },
     "metadata": {},
     "output_type": "display_data"
    },
    {
     "data": {
      "application/vnd.jupyter.widget-view+json": {
       "model_id": "7f213346077b4bc6a6649fd372cb8fa0",
       "version_major": 2,
       "version_minor": 0
      },
      "text/plain": [
       "  0%|          | 0/42 [00:00<?, ?it/s]"
      ]
     },
     "metadata": {},
     "output_type": "display_data"
    },
    {
     "data": {
      "application/vnd.jupyter.widget-view+json": {
       "model_id": "ae4c0632a5a74dcd94554090fafd5227",
       "version_major": 2,
       "version_minor": 0
      },
      "text/plain": [
       "  0%|          | 0/42 [00:00<?, ?it/s]"
      ]
     },
     "metadata": {},
     "output_type": "display_data"
    },
    {
     "data": {
      "application/vnd.jupyter.widget-view+json": {
       "model_id": "a481c370662f4da885eb15474c5d5b73",
       "version_major": 2,
       "version_minor": 0
      },
      "text/plain": [
       "Models:   0%|          | 0/10 [00:00<?, ?it/s]"
      ]
     },
     "metadata": {},
     "output_type": "display_data"
    },
    {
     "data": {
      "application/vnd.jupyter.widget-view+json": {
       "model_id": "d369e5e8b06c4e06830dae7a7b1d57a9",
       "version_major": 2,
       "version_minor": 0
      },
      "text/plain": [
       "  0%|          | 0/42 [00:00<?, ?it/s]"
      ]
     },
     "metadata": {},
     "output_type": "display_data"
    },
    {
     "data": {
      "application/vnd.jupyter.widget-view+json": {
       "model_id": "9d2ce9a3e7a5410a9c03ea03a0f4e2bd",
       "version_major": 2,
       "version_minor": 0
      },
      "text/plain": [
       "  0%|          | 0/42 [00:00<?, ?it/s]"
      ]
     },
     "metadata": {},
     "output_type": "display_data"
    },
    {
     "data": {
      "application/vnd.jupyter.widget-view+json": {
       "model_id": "337eb26b4e1a4a36add8e7ac9b6f2a7b",
       "version_major": 2,
       "version_minor": 0
      },
      "text/plain": [
       "  0%|          | 0/42 [00:00<?, ?it/s]"
      ]
     },
     "metadata": {},
     "output_type": "display_data"
    },
    {
     "data": {
      "application/vnd.jupyter.widget-view+json": {
       "model_id": "f60a7b880e10499d8729f81b24f38fe5",
       "version_major": 2,
       "version_minor": 0
      },
      "text/plain": [
       "  0%|          | 0/42 [00:00<?, ?it/s]"
      ]
     },
     "metadata": {},
     "output_type": "display_data"
    },
    {
     "data": {
      "application/vnd.jupyter.widget-view+json": {
       "model_id": "4da3c0fa108444f2a131822e9649b269",
       "version_major": 2,
       "version_minor": 0
      },
      "text/plain": [
       "  0%|          | 0/42 [00:00<?, ?it/s]"
      ]
     },
     "metadata": {},
     "output_type": "display_data"
    },
    {
     "data": {
      "application/vnd.jupyter.widget-view+json": {
       "model_id": "9d457e72735e47a8aa2f60dea56a9495",
       "version_major": 2,
       "version_minor": 0
      },
      "text/plain": [
       "  0%|          | 0/42 [00:00<?, ?it/s]"
      ]
     },
     "metadata": {},
     "output_type": "display_data"
    },
    {
     "data": {
      "application/vnd.jupyter.widget-view+json": {
       "model_id": "85063fac6e454c0b93033063990368b0",
       "version_major": 2,
       "version_minor": 0
      },
      "text/plain": [
       "  0%|          | 0/42 [00:00<?, ?it/s]"
      ]
     },
     "metadata": {},
     "output_type": "display_data"
    },
    {
     "data": {
      "application/vnd.jupyter.widget-view+json": {
       "model_id": "356c419c6eab4b63a86a4f626e23ff8c",
       "version_major": 2,
       "version_minor": 0
      },
      "text/plain": [
       "  0%|          | 0/42 [00:00<?, ?it/s]"
      ]
     },
     "metadata": {},
     "output_type": "display_data"
    },
    {
     "data": {
      "application/vnd.jupyter.widget-view+json": {
       "model_id": "54d5df468181461aae8a21e26d2d3c6c",
       "version_major": 2,
       "version_minor": 0
      },
      "text/plain": [
       "  0%|          | 0/42 [00:00<?, ?it/s]"
      ]
     },
     "metadata": {},
     "output_type": "display_data"
    },
    {
     "data": {
      "application/vnd.jupyter.widget-view+json": {
       "model_id": "1e9d4600a4e6433c8f0c42dca7623c2b",
       "version_major": 2,
       "version_minor": 0
      },
      "text/plain": [
       "  0%|          | 0/42 [00:00<?, ?it/s]"
      ]
     },
     "metadata": {},
     "output_type": "display_data"
    },
    {
     "data": {
      "application/vnd.jupyter.widget-view+json": {
       "model_id": "39d2bf98bf1f48e88cff6a7a58dac89c",
       "version_major": 2,
       "version_minor": 0
      },
      "text/plain": [
       "Models:   0%|          | 0/10 [00:00<?, ?it/s]"
      ]
     },
     "metadata": {},
     "output_type": "display_data"
    },
    {
     "data": {
      "application/vnd.jupyter.widget-view+json": {
       "model_id": "6352722d08164f249d7ba3dff7d13b6b",
       "version_major": 2,
       "version_minor": 0
      },
      "text/plain": [
       "  0%|          | 0/42 [00:00<?, ?it/s]"
      ]
     },
     "metadata": {},
     "output_type": "display_data"
    },
    {
     "data": {
      "application/vnd.jupyter.widget-view+json": {
       "model_id": "b0cc54174e0c40ce88b9668012499a63",
       "version_major": 2,
       "version_minor": 0
      },
      "text/plain": [
       "  0%|          | 0/42 [00:00<?, ?it/s]"
      ]
     },
     "metadata": {},
     "output_type": "display_data"
    },
    {
     "data": {
      "application/vnd.jupyter.widget-view+json": {
       "model_id": "df449b5e0f6a4528a2157a433c481c82",
       "version_major": 2,
       "version_minor": 0
      },
      "text/plain": [
       "  0%|          | 0/42 [00:00<?, ?it/s]"
      ]
     },
     "metadata": {},
     "output_type": "display_data"
    },
    {
     "data": {
      "application/vnd.jupyter.widget-view+json": {
       "model_id": "3a06b5ec75bd43168248e00e239c82ab",
       "version_major": 2,
       "version_minor": 0
      },
      "text/plain": [
       "  0%|          | 0/42 [00:00<?, ?it/s]"
      ]
     },
     "metadata": {},
     "output_type": "display_data"
    },
    {
     "data": {
      "application/vnd.jupyter.widget-view+json": {
       "model_id": "4c2ee65bfb124d1c85430f6439c7bf41",
       "version_major": 2,
       "version_minor": 0
      },
      "text/plain": [
       "  0%|          | 0/42 [00:00<?, ?it/s]"
      ]
     },
     "metadata": {},
     "output_type": "display_data"
    },
    {
     "data": {
      "application/vnd.jupyter.widget-view+json": {
       "model_id": "3788f9778d814db88eb292c099b2496b",
       "version_major": 2,
       "version_minor": 0
      },
      "text/plain": [
       "  0%|          | 0/42 [00:00<?, ?it/s]"
      ]
     },
     "metadata": {},
     "output_type": "display_data"
    },
    {
     "data": {
      "application/vnd.jupyter.widget-view+json": {
       "model_id": "023d1a9a67bd4b4a840d62c08f52406c",
       "version_major": 2,
       "version_minor": 0
      },
      "text/plain": [
       "  0%|          | 0/42 [00:00<?, ?it/s]"
      ]
     },
     "metadata": {},
     "output_type": "display_data"
    },
    {
     "data": {
      "application/vnd.jupyter.widget-view+json": {
       "model_id": "e5fd170c1f364c4da623fe8f55b875ba",
       "version_major": 2,
       "version_minor": 0
      },
      "text/plain": [
       "  0%|          | 0/42 [00:00<?, ?it/s]"
      ]
     },
     "metadata": {},
     "output_type": "display_data"
    },
    {
     "data": {
      "application/vnd.jupyter.widget-view+json": {
       "model_id": "f46c304575424ac5a3e913b35cb43e5c",
       "version_major": 2,
       "version_minor": 0
      },
      "text/plain": [
       "  0%|          | 0/42 [00:00<?, ?it/s]"
      ]
     },
     "metadata": {},
     "output_type": "display_data"
    },
    {
     "data": {
      "application/vnd.jupyter.widget-view+json": {
       "model_id": "799dc044826741c6aade23d27f593d4b",
       "version_major": 2,
       "version_minor": 0
      },
      "text/plain": [
       "  0%|          | 0/42 [00:00<?, ?it/s]"
      ]
     },
     "metadata": {},
     "output_type": "display_data"
    },
    {
     "data": {
      "application/vnd.jupyter.widget-view+json": {
       "model_id": "c06825b500eb4642a6a7300327d0c4d3",
       "version_major": 2,
       "version_minor": 0
      },
      "text/plain": [
       "Models:   0%|          | 0/10 [00:00<?, ?it/s]"
      ]
     },
     "metadata": {},
     "output_type": "display_data"
    },
    {
     "data": {
      "application/vnd.jupyter.widget-view+json": {
       "model_id": "4437be961feb4b1eb9425f6a5e417077",
       "version_major": 2,
       "version_minor": 0
      },
      "text/plain": [
       "  0%|          | 0/42 [00:00<?, ?it/s]"
      ]
     },
     "metadata": {},
     "output_type": "display_data"
    },
    {
     "data": {
      "application/vnd.jupyter.widget-view+json": {
       "model_id": "2961d1ce96e44505968ba9e05112479c",
       "version_major": 2,
       "version_minor": 0
      },
      "text/plain": [
       "  0%|          | 0/42 [00:00<?, ?it/s]"
      ]
     },
     "metadata": {},
     "output_type": "display_data"
    },
    {
     "data": {
      "application/vnd.jupyter.widget-view+json": {
       "model_id": "ec76dca21e43424497844f67b52b7caa",
       "version_major": 2,
       "version_minor": 0
      },
      "text/plain": [
       "  0%|          | 0/42 [00:00<?, ?it/s]"
      ]
     },
     "metadata": {},
     "output_type": "display_data"
    },
    {
     "data": {
      "application/vnd.jupyter.widget-view+json": {
       "model_id": "7d46289b805b400aa23218d0bd9e64e8",
       "version_major": 2,
       "version_minor": 0
      },
      "text/plain": [
       "  0%|          | 0/42 [00:00<?, ?it/s]"
      ]
     },
     "metadata": {},
     "output_type": "display_data"
    },
    {
     "data": {
      "application/vnd.jupyter.widget-view+json": {
       "model_id": "70706c2a20e74bcbbc2188391f9397cb",
       "version_major": 2,
       "version_minor": 0
      },
      "text/plain": [
       "  0%|          | 0/42 [00:00<?, ?it/s]"
      ]
     },
     "metadata": {},
     "output_type": "display_data"
    },
    {
     "data": {
      "application/vnd.jupyter.widget-view+json": {
       "model_id": "4e43fc90d585432393fc7c7dc8157421",
       "version_major": 2,
       "version_minor": 0
      },
      "text/plain": [
       "  0%|          | 0/42 [00:00<?, ?it/s]"
      ]
     },
     "metadata": {},
     "output_type": "display_data"
    },
    {
     "data": {
      "application/vnd.jupyter.widget-view+json": {
       "model_id": "ef90feb2aab742aaa80df1259b5cf913",
       "version_major": 2,
       "version_minor": 0
      },
      "text/plain": [
       "  0%|          | 0/42 [00:00<?, ?it/s]"
      ]
     },
     "metadata": {},
     "output_type": "display_data"
    },
    {
     "data": {
      "application/vnd.jupyter.widget-view+json": {
       "model_id": "7d2d54a0fcbc447580ed80d1bf92e01f",
       "version_major": 2,
       "version_minor": 0
      },
      "text/plain": [
       "  0%|          | 0/42 [00:00<?, ?it/s]"
      ]
     },
     "metadata": {},
     "output_type": "display_data"
    },
    {
     "data": {
      "application/vnd.jupyter.widget-view+json": {
       "model_id": "906a92ca040543e094ceeb9c8b8c0c73",
       "version_major": 2,
       "version_minor": 0
      },
      "text/plain": [
       "  0%|          | 0/42 [00:00<?, ?it/s]"
      ]
     },
     "metadata": {},
     "output_type": "display_data"
    },
    {
     "data": {
      "application/vnd.jupyter.widget-view+json": {
       "model_id": "523bba5634bd4373a42be130a622c1a3",
       "version_major": 2,
       "version_minor": 0
      },
      "text/plain": [
       "  0%|          | 0/42 [00:00<?, ?it/s]"
      ]
     },
     "metadata": {},
     "output_type": "display_data"
    },
    {
     "data": {
      "application/vnd.jupyter.widget-view+json": {
       "model_id": "ca023856f3494b01827ac175455a5144",
       "version_major": 2,
       "version_minor": 0
      },
      "text/plain": [
       "Models:   0%|          | 0/10 [00:00<?, ?it/s]"
      ]
     },
     "metadata": {},
     "output_type": "display_data"
    },
    {
     "data": {
      "application/vnd.jupyter.widget-view+json": {
       "model_id": "e1db43f26d414811a7a9c4803bbf5e0f",
       "version_major": 2,
       "version_minor": 0
      },
      "text/plain": [
       "  0%|          | 0/42 [00:00<?, ?it/s]"
      ]
     },
     "metadata": {},
     "output_type": "display_data"
    },
    {
     "data": {
      "application/vnd.jupyter.widget-view+json": {
       "model_id": "d48f07e1e92744fca77dd995a5cde3e8",
       "version_major": 2,
       "version_minor": 0
      },
      "text/plain": [
       "  0%|          | 0/42 [00:00<?, ?it/s]"
      ]
     },
     "metadata": {},
     "output_type": "display_data"
    },
    {
     "data": {
      "application/vnd.jupyter.widget-view+json": {
       "model_id": "4b1ea4f5f3a549129514bfb27ce1850b",
       "version_major": 2,
       "version_minor": 0
      },
      "text/plain": [
       "  0%|          | 0/42 [00:00<?, ?it/s]"
      ]
     },
     "metadata": {},
     "output_type": "display_data"
    },
    {
     "data": {
      "application/vnd.jupyter.widget-view+json": {
       "model_id": "21af538ed85a468386efd954d415f6ac",
       "version_major": 2,
       "version_minor": 0
      },
      "text/plain": [
       "  0%|          | 0/42 [00:00<?, ?it/s]"
      ]
     },
     "metadata": {},
     "output_type": "display_data"
    },
    {
     "data": {
      "application/vnd.jupyter.widget-view+json": {
       "model_id": "43711cd5ffbc4bd181b46a7e958e1c78",
       "version_major": 2,
       "version_minor": 0
      },
      "text/plain": [
       "  0%|          | 0/42 [00:00<?, ?it/s]"
      ]
     },
     "metadata": {},
     "output_type": "display_data"
    },
    {
     "data": {
      "application/vnd.jupyter.widget-view+json": {
       "model_id": "462dae00b3424425b86d43ec5c48a2ed",
       "version_major": 2,
       "version_minor": 0
      },
      "text/plain": [
       "  0%|          | 0/42 [00:00<?, ?it/s]"
      ]
     },
     "metadata": {},
     "output_type": "display_data"
    },
    {
     "data": {
      "application/vnd.jupyter.widget-view+json": {
       "model_id": "7c461c7d5fb04c86896d2f8261cfa363",
       "version_major": 2,
       "version_minor": 0
      },
      "text/plain": [
       "  0%|          | 0/42 [00:00<?, ?it/s]"
      ]
     },
     "metadata": {},
     "output_type": "display_data"
    },
    {
     "data": {
      "application/vnd.jupyter.widget-view+json": {
       "model_id": "8cde374e00de4d8087469818a13d1781",
       "version_major": 2,
       "version_minor": 0
      },
      "text/plain": [
       "  0%|          | 0/42 [00:00<?, ?it/s]"
      ]
     },
     "metadata": {},
     "output_type": "display_data"
    },
    {
     "data": {
      "application/vnd.jupyter.widget-view+json": {
       "model_id": "fa32f7f082aa459a8564ce7a84ce89f0",
       "version_major": 2,
       "version_minor": 0
      },
      "text/plain": [
       "  0%|          | 0/42 [00:00<?, ?it/s]"
      ]
     },
     "metadata": {},
     "output_type": "display_data"
    },
    {
     "data": {
      "application/vnd.jupyter.widget-view+json": {
       "model_id": "bad3127ace024259984ac3c44d25ee5c",
       "version_major": 2,
       "version_minor": 0
      },
      "text/plain": [
       "  0%|          | 0/42 [00:00<?, ?it/s]"
      ]
     },
     "metadata": {},
     "output_type": "display_data"
    },
    {
     "data": {
      "application/vnd.jupyter.widget-view+json": {
       "model_id": "091dfe1233d84e5b9ce8c57f6aa784c4",
       "version_major": 2,
       "version_minor": 0
      },
      "text/plain": [
       "Models:   0%|          | 0/10 [00:00<?, ?it/s]"
      ]
     },
     "metadata": {},
     "output_type": "display_data"
    },
    {
     "data": {
      "application/vnd.jupyter.widget-view+json": {
       "model_id": "34e4059aa8f24741b3a72c2e4a0ae4f4",
       "version_major": 2,
       "version_minor": 0
      },
      "text/plain": [
       "  0%|          | 0/42 [00:00<?, ?it/s]"
      ]
     },
     "metadata": {},
     "output_type": "display_data"
    },
    {
     "data": {
      "application/vnd.jupyter.widget-view+json": {
       "model_id": "7709b74b8fa047c1b9b8d5dcffec0817",
       "version_major": 2,
       "version_minor": 0
      },
      "text/plain": [
       "  0%|          | 0/42 [00:00<?, ?it/s]"
      ]
     },
     "metadata": {},
     "output_type": "display_data"
    },
    {
     "data": {
      "application/vnd.jupyter.widget-view+json": {
       "model_id": "3c21b3d1bc4e4a65bd252c244e621047",
       "version_major": 2,
       "version_minor": 0
      },
      "text/plain": [
       "  0%|          | 0/42 [00:00<?, ?it/s]"
      ]
     },
     "metadata": {},
     "output_type": "display_data"
    },
    {
     "data": {
      "application/vnd.jupyter.widget-view+json": {
       "model_id": "1eda70a2736f4b6b9d766f3caa74b48c",
       "version_major": 2,
       "version_minor": 0
      },
      "text/plain": [
       "  0%|          | 0/42 [00:00<?, ?it/s]"
      ]
     },
     "metadata": {},
     "output_type": "display_data"
    },
    {
     "data": {
      "application/vnd.jupyter.widget-view+json": {
       "model_id": "1248a712a0984504b43721ca7397c807",
       "version_major": 2,
       "version_minor": 0
      },
      "text/plain": [
       "  0%|          | 0/42 [00:00<?, ?it/s]"
      ]
     },
     "metadata": {},
     "output_type": "display_data"
    },
    {
     "data": {
      "application/vnd.jupyter.widget-view+json": {
       "model_id": "e3670fb2b35141f39b1f09ef56d1535f",
       "version_major": 2,
       "version_minor": 0
      },
      "text/plain": [
       "  0%|          | 0/42 [00:00<?, ?it/s]"
      ]
     },
     "metadata": {},
     "output_type": "display_data"
    },
    {
     "data": {
      "application/vnd.jupyter.widget-view+json": {
       "model_id": "e8beca0c1cf64f988172970612b5364d",
       "version_major": 2,
       "version_minor": 0
      },
      "text/plain": [
       "  0%|          | 0/42 [00:00<?, ?it/s]"
      ]
     },
     "metadata": {},
     "output_type": "display_data"
    },
    {
     "data": {
      "application/vnd.jupyter.widget-view+json": {
       "model_id": "e5d6dea93aee469fa40ff0b5a890e274",
       "version_major": 2,
       "version_minor": 0
      },
      "text/plain": [
       "  0%|          | 0/42 [00:00<?, ?it/s]"
      ]
     },
     "metadata": {},
     "output_type": "display_data"
    },
    {
     "data": {
      "application/vnd.jupyter.widget-view+json": {
       "model_id": "27454f09491d4ae18e9527de3a75fdee",
       "version_major": 2,
       "version_minor": 0
      },
      "text/plain": [
       "  0%|          | 0/42 [00:00<?, ?it/s]"
      ]
     },
     "metadata": {},
     "output_type": "display_data"
    },
    {
     "data": {
      "application/vnd.jupyter.widget-view+json": {
       "model_id": "bccc8f4d5c424ec6bbe26bbb774102d0",
       "version_major": 2,
       "version_minor": 0
      },
      "text/plain": [
       "  0%|          | 0/42 [00:00<?, ?it/s]"
      ]
     },
     "metadata": {},
     "output_type": "display_data"
    }
   ],
   "source": [
    "# Generate dictionary of results from the AnnData objects\n",
    "\n",
    "dataset_names = [\"Dataset11\",\"Dataset17\"]\n",
    "\n",
    "\n",
    "##################\n",
    "combined_stat_result_dict = {}\n",
    "\n",
    "for i in range(len(dataset_names)):\n",
    "\n",
    "    dataset_name=dataset_names[i]\n",
    "    \n",
    "    # read result anndata object\n",
    "    adata = sc.read_h5ad(f'scg_results/scpi/2023Aug1_k4k1_SDbasedCCPplus1/{dataset_name}_knn_spage_tangram_MI_SPATIALDE.h5ad')\n",
    "\n",
    "    combined_stat_result_dict[dataset_name] = {}\n",
    "\n",
    "    for method in [\"spage\", \"tangram\", \"knn\"]:\n",
    "\n",
    "        # init subdict\n",
    "        combined_stat_result_dict[dataset_name][method] = {}\n",
    "        key = \"spatialde\"\n",
    "        combined_stat_result_dict[dataset_name][method][key] = {}\n",
    "        combined_stat_result_dict[dataset_name][method][key][\"gene\"] = adata.var_names.values\n",
    "        \n",
    "        # add TISSUE results from var \n",
    "        var_key = method+\"_\"+key\n",
    "        combined_stat_result_dict[dataset_name][method][key][\"mi_pvalue\"] = adata.var[var_key+\"_pvalue\"].values\n",
    "\n",
    "        # test with measured values\n",
    "        normalized_matrix = adata.X/(1+np.sum(adata.X,axis=1)[:,None])\n",
    "        normalized_matrix = np.log((normalized_matrix-np.min(normalized_matrix)+1) * 100)                           \n",
    "        df = pd.DataFrame(normalized_matrix,\n",
    "                          columns=adata.var_names,\n",
    "                          index=adata.obs_names)\n",
    "        results = SpatialDE.run(adata.obsm['spatial'],df)\n",
    "        results.g = results.g.astype(\"category\")\n",
    "        results.g = results.g.cat.set_categories(adata.var_names)\n",
    "        results = results.sort_values([\"g\"])\n",
    "        pp = results[\"pval\"]\n",
    "        combined_stat_result_dict[dataset_name][method][key][\"true_pvalue\"] = pp\n",
    "        \n",
    "        # test with predicted values (baseline)\n",
    "        X = adata.obsm[method+\"_predicted_expression\"][adata.var_names].values\n",
    "        normalized_matrix = X/(1+np.sum(X,axis=1)[:,None])\n",
    "        normalized_matrix = np.log((normalized_matrix-np.min(normalized_matrix)+1) * 100)  \n",
    "        df = pd.DataFrame(normalized_matrix,\n",
    "                          columns=adata.var_names,\n",
    "                          index=adata.obs_names)\n",
    "        results = SpatialDE.run(adata.obsm['spatial'],df)\n",
    "        results.g = results.g.astype(\"category\")\n",
    "        results.g = results.g.cat.set_categories(adata.var_names)\n",
    "        results = results.sort_values([\"g\"])\n",
    "        pp = results[\"pval\"]\n",
    "        combined_stat_result_dict[dataset_name][method][key][\"imp_pvalue\"] = pp\n",
    "\n",
    "# pickle dict\n",
    "# with open(f\"results/hypothesis_testing/{'_'.join(dataset_names)}_spatialde.pkl\", \"wb\") as f:\n",
    "#     pickle.dump(combined_stat_result_dict, f)"
   ]
  },
  {
   "cell_type": "markdown",
   "id": "427de41b",
   "metadata": {},
   "source": [
    "## FDR plots comparing TISSUE to baseline"
   ]
  },
  {
   "cell_type": "code",
   "execution_count": 3,
   "id": "ffe29fe3",
   "metadata": {},
   "outputs": [
    {
     "name": "stderr",
     "output_type": "stream",
     "text": [
      "/tmp/ipykernel_47/2579573175.py:64: RuntimeWarning: invalid value encountered in long_scalars\n",
      "  fdr_list_1.append(confusion_matrix_1[1,0]/(confusion_matrix_1[1,0]+confusion_matrix_1[0,0]))\n",
      "/tmp/ipykernel_47/2579573175.py:65: RuntimeWarning: invalid value encountered in long_scalars\n",
      "  fdr_list_2.append(confusion_matrix_2[1,0]/(confusion_matrix_2[1,0]+confusion_matrix_2[0,0]))\n"
     ]
    },
    {
     "data": {
      "image/png": "[encoded data removed]",
      "text/plain": [
       "<Figure size 700x500 with 6 Axes>"
      ]
     },
     "metadata": {},
     "output_type": "display_data"
    }
   ],
   "source": [
    "# IMPUTED VS TRUE COMPARISONS\n",
    "\n",
    "dataset_names = [\"Dataset11\", \"Dataset17\"]\n",
    "methods = [\"knn\", \"spage\", \"tangram\"]\n",
    "xlab = \"true_pvalue\"\n",
    "ylab1 = \"imp_pvalue\"\n",
    "ylab2 = \"mi_pvalue\"\n",
    "\n",
    "###############################################\n",
    "with open(f\"results/hypothesis_testing/{'_'.join(dataset_names)}_spatialde.pkl\", \"rb\") as input_file:\n",
    "    combined_stat_result_dict = pickle.load(input_file)\n",
    "\n",
    "# get nrows and ncols\n",
    "n2 = len(list(combined_stat_result_dict.keys()))\n",
    "n1 = len(list(combined_stat_result_dict[list(combined_stat_result_dict.keys())[0]].keys()))\n",
    "\n",
    "# P-VALUE\n",
    "\n",
    "fig, axs = plt.subplots(n1, n2, figsize=(7,5), sharex=False, sharey=True)\n",
    "    \n",
    "    \n",
    "    \n",
    "for j, dataset in enumerate(dataset_names):\n",
    "            \n",
    "    for i, method in enumerate(methods):\n",
    "        \n",
    "        # collect all comparisons\n",
    "        agg_x = np.array([])\n",
    "        agg_y1 = np.array([])\n",
    "        agg_y2 = np.array([])\n",
    "        for g1 in combined_stat_result_dict[dataset][method].keys():\n",
    "            agg_x = np.concatenate((agg_x, combined_stat_result_dict[dataset][method][g1][xlab]))\n",
    "            agg_y1 = np.concatenate((agg_y1, combined_stat_result_dict[dataset][method][g1][ylab1]))\n",
    "            agg_y2 = np.concatenate((agg_y2, combined_stat_result_dict[dataset][method][g1][ylab2]))\n",
    "        \n",
    "        num_pos_1 = []\n",
    "        num_pos_2 = []\n",
    "        \n",
    "        fdr_list_1 = []\n",
    "        fdr_list_2 = []\n",
    "        \n",
    "        # make pvalue array to search be all pvalues across agg_x, agg_y1, agg_y2 [most efficient search]\n",
    "        p_cutoff_uncorrected_arr = np.sort(np.concatenate(([-1],agg_x,agg_y1,agg_y2)))\n",
    "        \n",
    "        for p_cutoff_uncorrected in np.float128(p_cutoff_uncorrected_arr):\n",
    "            \n",
    "            # get positive hits\n",
    "            true_labels = np.float128(agg_x) < p_cutoff_uncorrected\n",
    "            imp_labels = np.float128(agg_y1) < p_cutoff_uncorrected\n",
    "            mi_labels = np.float128(agg_y2) < p_cutoff_uncorrected\n",
    "\n",
    "            # make confusion matrix\n",
    "            confusion_matrix_1 = np.array([[np.sum(true_labels[true_labels]==imp_labels[true_labels]),\n",
    "                                          np.sum(true_labels[true_labels]!=imp_labels[true_labels])],\n",
    "                                          [np.sum(true_labels[~true_labels]!=imp_labels[~true_labels]),\n",
    "                                           np.sum(true_labels[~true_labels]==imp_labels[~true_labels])]])\n",
    "            \n",
    "            confusion_matrix_2 = np.array([[np.sum(true_labels[true_labels]==mi_labels[true_labels]),\n",
    "                                          np.sum(true_labels[true_labels]!=mi_labels[true_labels])],\n",
    "                                          [np.sum(true_labels[~true_labels]!=mi_labels[~true_labels]),\n",
    "                                           np.sum(true_labels[~true_labels]==mi_labels[~true_labels])]])\n",
    "            \n",
    "            # compute FDR\n",
    "            fdr_list_1.append(confusion_matrix_1[1,0]/(confusion_matrix_1[1,0]+confusion_matrix_1[0,0]))\n",
    "            fdr_list_2.append(confusion_matrix_2[1,0]/(confusion_matrix_2[1,0]+confusion_matrix_2[0,0]))\n",
    "            \n",
    "            # add number of discoveries\n",
    "            num_pos_1.append(np.nansum(imp_labels))\n",
    "            num_pos_2.append(np.nansum(mi_labels))\n",
    "        \n",
    "        \n",
    "        axs[i,j].plot(num_pos_1, fdr_list_1, color='r', label=\"Predicted\")\n",
    "        axs[i,j].plot(num_pos_2, fdr_list_2, color='cornflowerblue', label=\"TISSUE\")\n",
    "\n",
    "# legend\n",
    "fig.legend([\"Predicted\", \"TISSUE\"], loc='center right', ncol=1, bbox_to_anchor=(1,-0.1), bbox_transform=fig.transFigure, fontsize=16)\n",
    "        \n",
    "        \n",
    "# axis labels\n",
    "fig.suptitle(\"TISSUE Multiple Imputation SpatialDE\",fontsize=18)\n",
    "fig.supxlabel(\"Number of Discoveries/DEGs\", fontsize=16)\n",
    "fig.supylabel(\"False Discovery Rate (FDR)\", fontsize=16)\n",
    "        \n",
    "# set row and column headers\n",
    "cols = [dataset_mapper[d] for d in list(dataset_names)]\n",
    "rows = [method_mapper[m] for m in list(methods)]\n",
    "padrow = 5\n",
    "padcol = 10\n",
    "for ax, col in zip(axs[0], cols):\n",
    "    ax.annotate(col, xy=(0.5, 1), xytext=(0, padcol),\n",
    "                xycoords='axes fraction', textcoords='offset points',\n",
    "                size='large', ha='center', va='baseline')\n",
    "\n",
    "for ax, row in zip(axs[:,0], rows):\n",
    "    ax.annotate(row, xy=(0, 0.5), xytext=(-ax.yaxis.labelpad - padrow, 0),\n",
    "                xycoords=ax.yaxis.label, textcoords='offset points',\n",
    "                size='large', ha='right', va='center')\n",
    "    \n",
    "plt.tight_layout()\n",
    "plt.savefig(\"plots/scpi_dgea/SPATIALDE_paneled_pvalue_numpositives_fdr_curves.pdf\", bbox_inches='tight')\n",
    "plt.show()"
   ]
  },
  {
   "cell_type": "markdown",
   "id": "30ac7453",
   "metadata": {},
   "source": [
    "### TISSUE-specific discoveries (Unc13c gene)"
   ]
  },
  {
   "cell_type": "code",
   "execution_count": 78,
   "id": "b875cdae",
   "metadata": {},
   "outputs": [],
   "source": [
    "# comparing exclusive TISSUE vs baseline discoveries / false discoveries\n",
    "\n",
    "df = pd.DataFrame.from_dict(combined_stat_result_dict['Dataset17']['spage']['spatialde'])\n",
    "\n",
    "cutoff = 0.05\n",
    "\n",
    "df_tissue_discovered = df[(df['mi_pvalue']<cutoff)&(df[\"true_pvalue\"]<cutoff)&(df[\"imp_pvalue\"]>cutoff)]\n",
    "df_false_discovered = df[(df['mi_pvalue']>cutoff)&(df[\"true_pvalue\"]>cutoff)&(df[\"imp_pvalue\"]<cutoff)]"
   ]
  },
  {
   "cell_type": "code",
   "execution_count": 86,
   "id": "8a1085ef",
   "metadata": {},
   "outputs": [
    {
     "name": "stdout",
     "output_type": "stream",
     "text": [
      "unc13c\n"
     ]
    },
    {
     "data": {
      "text/html": [
       "<div>\n",
       "<style scoped>\n",
       "    .dataframe tbody tr th:only-of-type {\n",
       "        vertical-align: middle;\n",
       "    }\n",
       "\n",
       "    .dataframe tbody tr th {\n",
       "        vertical-align: top;\n",
       "    }\n",
       "\n",
       "    .dataframe thead th {\n",
       "        text-align: right;\n",
       "    }\n",
       "</style>\n",
       "<table border=\"1\" class=\"dataframe\">\n",
       "  <thead>\n",
       "    <tr style=\"text-align: right;\">\n",
       "      <th></th>\n",
       "      <th>gene</th>\n",
       "      <th>mi_pvalue</th>\n",
       "      <th>true_pvalue</th>\n",
       "      <th>imp_pvalue</th>\n",
       "    </tr>\n",
       "  </thead>\n",
       "  <tbody>\n",
       "    <tr>\n",
       "      <th>38</th>\n",
       "      <td>unc13c</td>\n",
       "      <td>0.000066</td>\n",
       "      <td>0.037254</td>\n",
       "      <td>0.082181</td>\n",
       "    </tr>\n",
       "  </tbody>\n",
       "</table>\n",
       "</div>"
      ],
      "text/plain": [
       "      gene  mi_pvalue  true_pvalue  imp_pvalue\n",
       "38  unc13c   0.000066     0.037254    0.082181"
      ]
     },
     "execution_count": 86,
     "metadata": {},
     "output_type": "execute_result"
    }
   ],
   "source": [
    "for x in df_tissue_discovered['gene'].values:\n",
    "    print(x)\n",
    "df_tissue_discovered"
   ]
  },
  {
   "cell_type": "code",
   "execution_count": 88,
   "id": "8da14434",
   "metadata": {},
   "outputs": [
    {
     "name": "stderr",
     "output_type": "stream",
     "text": [
      "/home/edsun/anaconda3/envs/geneimputation/lib/python3.8/site-packages/anndata/_core/anndata.py:121: ImplicitModificationWarning: Transforming to str index.\n",
      "  warnings.warn(\"Transforming to str index.\", ImplicitModificationWarning)\n",
      "/home/edsun/anaconda3/envs/geneimputation/lib/python3.8/site-packages/anndata/_core/anndata.py:872: UserWarning: \n",
      "AnnData expects .obs.index to contain strings, but got values like:\n",
      "    [0, 1, 2, 3, 4]\n",
      "\n",
      "    Inferred to be: integer\n",
      "\n",
      "  names = self._prep_dim_index(names, \"obs\")\n"
     ]
    },
    {
     "data": {
      "image/png": "[encoded data removed]",
      "text/plain": [
       "<Figure size 640x480 with 2 Axes>"
      ]
     },
     "metadata": {},
     "output_type": "display_data"
    }
   ],
   "source": [
    "# Spatial visualization of measured Unc13c expression\n",
    "\n",
    "dataset_name = \"Dataset17\"\n",
    "gene = \"Unc13c\"\n",
    "\n",
    "dataset_mapper = {\"Dataset3\": \"Mouse Hipp. (seqFISH)\",\n",
    "                  \"Dataset9\": \"Mouse VISP (MERFISH)\",\n",
    "                  \"Dataset11\": \"Mouse PC (STARmap)\", \n",
    "                  \"Dataset12\": \"Human MTG (ISS)\",\n",
    "                  \"Dataset13\": \"Mouse VISP (ISS)\",\n",
    "                  \"Dataset14\": \"Drosophila Embryo (FISH)\",\n",
    "                  \"Dataset15\": \"Mouse SC (osmFISH)\",\n",
    "                  \"Dataset17\": \"Mouse VISP (ExSeq)\",\n",
    "                  \"Axolotl\": \"Axolotl Brain (Stereo-seq)\",\n",
    "                  \"Dataset7\": \"Human U2OS (MERFISH)\",\n",
    "                  \"Dataset1\": \"Mouse Gast. (seqFISH)\"}\n",
    "\n",
    "\n",
    "adata = load_spatial_data(\"DataUpload/\"+dataset_name+\"/Spatial_count.txt\",\n",
    "                             \"DataUpload/\"+dataset_name+\"/Locations.txt\")\n",
    "\n",
    "# make plot\n",
    "#sc.set_figure_params(vector_friendly=True, dpi=500, figsize=(7,5), fontsize=16)\n",
    "sc.pl.embedding(adata, \"spatial\", color=gene, cmap=\"Reds\", show=False)\n",
    "plt.title(dataset_mapper[dataset_name]+\"\\n\"+gene.capitalize(), fontsize=20)\n",
    "plt.axis('off')\n",
    "plt.savefig(f\"plots/SpatialDE_{dataset_name}_{gene}.pdf\", bbox_inches=\"tight\", dpi=300)\n",
    "plt.show()"
   ]
  },
  {
   "cell_type": "markdown",
   "id": "5d72969e",
   "metadata": {},
   "source": [
    "### Printing specific values for supplementary table"
   ]
  },
  {
   "cell_type": "code",
   "execution_count": null,
   "id": "79efb495",
   "metadata": {},
   "outputs": [],
   "source": [
    "# Print out values for Supplementary Table 2\n",
    "\n",
    "dataset_names = [\"Dataset11\", \"Dataset17\"]\n",
    "methods = [\"knn\", \"spage\", \"tangram\"]\n",
    "xlab = \"true_pvalue\"\n",
    "ylab1 = \"imp_pvalue\"\n",
    "ylab2 = \"mi_pvalue\"\n",
    "\n",
    "proportion_discoveries = 0.4\n",
    "\n",
    "###############################################\n",
    "with open(f\"results/hypothesis_testing/{'_'.join(dataset_names)}_spatialde.pkl\", \"rb\") as input_file:\n",
    "    combined_stat_result_dict = pickle.load(input_file)\n",
    "\n",
    "# get nrows and ncols\n",
    "n2 = len(list(combined_stat_result_dict.keys()))\n",
    "n1 = len(list(combined_stat_result_dict[list(combined_stat_result_dict.keys())[0]].keys()))\n",
    "\n",
    "# P-VALUE\n",
    "\n",
    "fig, axs = plt.subplots(n1, n2, figsize=(7,5), sharex=False, sharey=True)\n",
    "    \n",
    "    \n",
    "    \n",
    "for j, dataset in enumerate(dataset_names):\n",
    "            \n",
    "    for i, method in enumerate(methods):\n",
    "        \n",
    "        # collect all comparisons\n",
    "        agg_x = np.array([])\n",
    "        agg_y1 = np.array([])\n",
    "        agg_y2 = np.array([])\n",
    "        for g1 in combined_stat_result_dict[dataset][method].keys():\n",
    "            agg_x = np.concatenate((agg_x, combined_stat_result_dict[dataset][method][g1][xlab]))\n",
    "            agg_y1 = np.concatenate((agg_y1, combined_stat_result_dict[dataset][method][g1][ylab1]))\n",
    "            agg_y2 = np.concatenate((agg_y2, combined_stat_result_dict[dataset][method][g1][ylab2]))\n",
    "        \n",
    "        num_pos_1 = []\n",
    "        num_pos_2 = []\n",
    "        \n",
    "        fdr_list_1 = []\n",
    "        fdr_list_2 = []\n",
    "        \n",
    "        # make pvalue array to search be all pvalues across agg_x, agg_y1, agg_y2 [most efficient search]\n",
    "        p_cutoff_uncorrected_arr = np.sort(np.concatenate(([-1],agg_x,agg_y1,agg_y2)))\n",
    "        \n",
    "        for p_cutoff_uncorrected in np.float128(p_cutoff_uncorrected_arr):\n",
    "            \n",
    "            # get positive hits\n",
    "            true_labels = np.float128(agg_x) < p_cutoff_uncorrected\n",
    "            imp_labels = np.float128(agg_y1) < p_cutoff_uncorrected\n",
    "            mi_labels = np.float128(agg_y2) < p_cutoff_uncorrected\n",
    "\n",
    "            # make confusion matrix\n",
    "            confusion_matrix_1 = np.array([[np.sum(true_labels[true_labels]==imp_labels[true_labels]),\n",
    "                                          np.sum(true_labels[true_labels]!=imp_labels[true_labels])],\n",
    "                                          [np.sum(true_labels[~true_labels]!=imp_labels[~true_labels]),\n",
    "                                           np.sum(true_labels[~true_labels]==imp_labels[~true_labels])]])\n",
    "            \n",
    "            confusion_matrix_2 = np.array([[np.sum(true_labels[true_labels]==mi_labels[true_labels]),\n",
    "                                          np.sum(true_labels[true_labels]!=mi_labels[true_labels])],\n",
    "                                          [np.sum(true_labels[~true_labels]!=mi_labels[~true_labels]),\n",
    "                                           np.sum(true_labels[~true_labels]==mi_labels[~true_labels])]])\n",
    "            \n",
    "            # compute FDR\n",
    "            fdr_list_1.append(confusion_matrix_1[1,0]/(confusion_matrix_1[1,0]+confusion_matrix_1[0,0]))\n",
    "            fdr_list_2.append(confusion_matrix_2[1,0]/(confusion_matrix_2[1,0]+confusion_matrix_2[0,0]))\n",
    "            \n",
    "            # add number of discoveries\n",
    "            num_pos_1.append(np.nansum(imp_labels))\n",
    "            num_pos_2.append(np.nansum(mi_labels))\n",
    "        \n",
    "        \n",
    "        # threshold to report FDR for\n",
    "        cut_idx1 = (np.abs(np.array(num_pos_1)-round(len(agg_x)*proportion_discoveries))).argmin()\n",
    "        cut_idx2 = (np.abs(np.array(num_pos_2)-round(len(agg_x)*proportion_discoveries))).argmin()\n",
    "        print(dataset)\n",
    "        print(method)\n",
    "        print(fdr_list_2[cut_idx2])\n",
    "        print(fdr_list_1[cut_idx1])\n",
    "        print(\"\")"
   ]
  },
  {
   "cell_type": "code",
   "execution_count": null,
   "id": "dbc71a46",
   "metadata": {},
   "outputs": [],
   "source": []
  }
 ],
 "metadata": {
  "kernelspec": {
   "display_name": "geneimputation",
   "language": "python",
   "name": "geneimputation"
  },
  "language_info": {
   "codemirror_mode": {
    "name": "ipython",
    "version": 3
   },
   "file_extension": ".py",
   "mimetype": "text/x-python",
   "name": "python",
   "nbconvert_exporter": "python",
   "pygments_lexer": "ipython3",
   "version": "3.8.13"
  }
 },
 "nbformat": 4,
 "nbformat_minor": 5
}
